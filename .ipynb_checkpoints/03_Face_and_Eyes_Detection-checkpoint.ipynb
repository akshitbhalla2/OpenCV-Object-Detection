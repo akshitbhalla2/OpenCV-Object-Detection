{
 "cells": [
  {
   "cell_type": "markdown",
   "metadata": {},
   "source": [
    "### Import Libraries"
   ]
  },
  {
   "cell_type": "code",
   "execution_count": null,
   "metadata": {},
   "outputs": [],
   "source": [
    "import cv2\n",
    "import numpy as np\n",
    "import matplotlib.pyplot as plt"
   ]
  },
  {
   "cell_type": "markdown",
   "metadata": {},
   "source": [
    "### Open Image"
   ]
  },
  {
   "cell_type": "code",
   "execution_count": null,
   "metadata": {},
   "outputs": [],
   "source": [
    "img = cv2.imread(\"Images/eye_face.jpg\")\n",
    "img = cv2.cvtColor(img, cv2.COLOR_BGR2RGB)\n",
    "plt.imshow(img)"
   ]
  },
  {
   "cell_type": "markdown",
   "metadata": {},
   "source": [
    "### Detect Faces and Eyes"
   ]
  },
  {
   "cell_type": "code",
   "execution_count": null,
   "metadata": {},
   "outputs": [],
   "source": [
    "def detect_eyes(img):\n",
    "    classifier = cv2.CascadeClassifier(\"./Haarcascades/haarcascade_eye.xml\")\n",
    "    measure = classifier.detectMultiScale(img)\n",
    "    \n",
    "    if measure is ():\n",
    "        print(\"Eyes not found!\")\n",
    "    \n",
    "    else:\n",
    "        for (x, y, w, h) in measure:\n",
    "            cv2.rectangle(\n",
    "                img,\n",
    "                (x, y),\n",
    "                (x+w, y+h),\n",
    "                (255, 0, 0),\n",
    "                10\n",
    "            )\n",
    "        \n",
    "    return img"
   ]
  },
  {
   "cell_type": "code",
   "execution_count": null,
   "metadata": {},
   "outputs": [],
   "source": [
    "def detect_face(img):\n",
    "    classifier = cv2.CascadeClassifier(\"./Haarcascades/haarcascade_frontalface_default.xml\")\n",
    "    measure = classifier.detectMultiScale(img)\n",
    "    \n",
    "    if measure is ():\n",
    "        print(\"Face not found!\")\n",
    "    \n",
    "    else:\n",
    "        for (x, y, w, h) in measure:\n",
    "            cv2.rectangle(\n",
    "                img,\n",
    "                (x, y),\n",
    "                (x+w, y+h),\n",
    "                (255, 0, 0),\n",
    "                10\n",
    "            )\n",
    "        \n",
    "    return img"
   ]
  },
  {
   "cell_type": "code",
   "execution_count": null,
   "metadata": {},
   "outputs": [],
   "source": [
    "def detect_face_eyes(img):\n",
    "    img = detect_face(img)\n",
    "    if img != \"Not found!\":\n",
    "        img = detect_face(img)\n",
    "        return img\n",
    "    "
   ]
  },
  {
   "cell_type": "code",
   "execution_count": null,
   "metadata": {},
   "outputs": [],
   "source": [
    "img = detect_face_eyes(img)\n",
    "plt.imshow(img)"
   ]
  }
 ],
 "metadata": {
  "kernelspec": {
   "display_name": "Python 3",
   "language": "python",
   "name": "python3"
  },
  "language_info": {
   "codemirror_mode": {
    "name": "ipython",
    "version": 3
   },
   "file_extension": ".py",
   "mimetype": "text/x-python",
   "name": "python",
   "nbconvert_exporter": "python",
   "pygments_lexer": "ipython3",
   "version": "3.7.4"
  }
 },
 "nbformat": 4,
 "nbformat_minor": 2
}
